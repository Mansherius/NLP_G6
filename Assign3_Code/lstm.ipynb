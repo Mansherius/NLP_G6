{
 "cells": [
  {
   "cell_type": "code",
   "execution_count": 1,
   "metadata": {},
   "outputs": [],
   "source": [
    "# Imports \n",
    "import pandas as pd\n",
    "import tensorflow as tf\n",
    "from sklearn.model_selection import train_test_split\n",
    "from sklearn.preprocessing import LabelEncoder\n",
    "from tensorflow.keras.preprocessing.text import Tokenizer\n",
    "from tensorflow.keras.preprocessing.sequence import pad_sequences\n",
    "from tensorflow.keras.models import Sequential\n",
    "from tensorflow.keras.layers import Embedding, LSTM, Dense, Dropout\n",
    "from tensorflow.keras.layers import SpatialDropout1D\n",
    "from tensorflow.keras.optimizers import Adam\n",
    "from tensorflow.keras.optimizers import RMSprop\n",
    "from tensorflow.keras.callbacks import EarlyStopping\n",
    "import re\n",
    "import nltk\n",
    "from nltk.corpus import stopwords\n",
    "import numpy as np\n",
    "from sklearn.model_selection import StratifiedKFold\n",
    "from sklearn.metrics import accuracy_score, precision_score, recall_score, f1_score, confusion_matrix"
   ]
  },
  {
   "cell_type": "code",
   "execution_count": 20,
   "metadata": {},
   "outputs": [
    {
     "name": "stdout",
     "output_type": "stream",
     "text": [
      "   type                                              posts\n",
      "0  INFJ  'http://www.youtube.com/watch?v=qsXHcwe3krw|||...\n",
      "1  ENTP  'I'm finding the lack of me in these posts ver...\n",
      "2  INTP  'Good one  _____   https://www.youtube.com/wat...\n",
      "3  INTJ  'Dear INTP,   I enjoyed our conversation the o...\n",
      "4  ENTJ  'You're fired.|||That's another silly misconce...\n"
     ]
    }
   ],
   "source": [
    "# Load the dataset\n",
    "data = pd.read_csv('mbti_1.csv', encoding='latin1', on_bad_lines='skip')\n",
    "\n",
    "# Display the first few rows of the dataset\n",
    "print(data.head())"
   ]
  },
  {
   "cell_type": "code",
   "execution_count": 21,
   "metadata": {},
   "outputs": [
    {
     "name": "stdout",
     "output_type": "stream",
     "text": [
      "   type                                              posts\n",
      "0  INFJ  ['http://www.youtube.com/watch?v=qsXHcwe3krw, ...\n",
      "1  ENTP  ['I'm finding the lack of me in these posts ve...\n",
      "2  INTP  ['Good one  _____   https://www.youtube.com/wa...\n",
      "3  INTJ  ['Dear INTP,   I enjoyed our conversation the ...\n",
      "4  ENTJ  ['You're fired., That's another silly misconce...\n"
     ]
    }
   ],
   "source": [
    "# Split posts into lists\n",
    "data['posts'] = data['posts'].apply(lambda x: x.split('|||'))\n",
    "\n",
    "# Display the first few rows of the dataset\n",
    "print(data.head())\n"
   ]
  },
  {
   "cell_type": "markdown",
   "metadata": {},
   "source": [
    "tokenization + padding"
   ]
  },
  {
   "cell_type": "code",
   "execution_count": 17,
   "metadata": {},
   "outputs": [
    {
     "name": "stdout",
     "output_type": "stream",
     "text": [
      "   type                                              posts\n",
      "0  INFJ  [, , enfp and intj moments sportscenter not to...\n",
      "1  ENTP  [Im finding the lack of me in these posts very...\n",
      "2  INTP  [Good one, Of course to which say know thats m...\n",
      "3  INTJ  [Dear INTP enjoyed our conversation the other ...\n",
      "4  ENTJ  [Youre fired, Thats another silly misconceptio...\n"
     ]
    }
   ],
   "source": [
    "# Now that the data has been split into individual posts, we can start cleaning that and then tokenizing it\n",
    "# we can use the tokeniser on each post from each row\n",
    "\n",
    "# As there are also some links and special characters in the posts, we can remove them using regex\n",
    "\n",
    "# Clean and preprocess text\n",
    "def clean_text(text):\n",
    "    # Remove links\n",
    "    text = re.sub(r'http\\S+', '', text)\n",
    "    # Remove special characters and digits (including spaces)\n",
    "    text = re.sub(r'[^a-zA-Z\\s]', '', text)\n",
    "    # Remove single characters\n",
    "    text = ' '.join([w for w in text.split() if len(w) > 1])\n",
    "    return text\n",
    "\n",
    "data['posts'] = data['posts'].apply(lambda x: [clean_text(post) for post in x])\n",
    "\n",
    "# Display cleaned posts\n",
    "print(data.head())"
   ]
  },
  {
   "cell_type": "code",
   "execution_count": 22,
   "metadata": {},
   "outputs": [
    {
     "name": "stderr",
     "output_type": "stream",
     "text": [
      "[nltk_data] Downloading package stopwords to\n",
      "[nltk_data]     C:\\Users\\manya\\AppData\\Roaming\\nltk_data...\n",
      "[nltk_data]   Package stopwords is already up-to-date!\n"
     ]
    },
    {
     "name": "stdout",
     "output_type": "stream",
     "text": [
      "   type                                              posts  \\\n",
      "0  INFJ  ['http://www.youtube.com/watch?v=qsXHcwe3krw, ...   \n",
      "1  ENTP  ['I'm finding the lack of me in these posts ve...   \n",
      "2  INTP  ['Good one  _____   https://www.youtube.com/wa...   \n",
      "3  INTJ  ['Dear INTP,   I enjoyed our conversation the ...   \n",
      "4  ENTJ  ['You're fired., That's another silly misconce...   \n",
      "\n",
      "                                       cleaned_posts  \n",
      "0  [, , enfp intj moments sportscenter top ten pl...  \n",
      "1  [im finding lack posts alarming, sex boring po...  \n",
      "2  [good one, course say know thats blessing curs...  \n",
      "3  [dear intp enjoyed conversation day esoteric g...  \n",
      "4  [youre fired, thats another silly misconceptio...  \n"
     ]
    }
   ],
   "source": [
    "# Now that the data has been split into individual posts, we can start cleaning that and then tokenizing it\n",
    "# we can use the tokeniser on each post from each row\n",
    "\n",
    "# As there are also some links and special characters in the posts, we can remove them using regex\n",
    "\n",
    "nltk.download('stopwords')\n",
    "stop_words = set(stopwords.words('english'))\n",
    "\n",
    "# Clean and preprocess text\n",
    "def clean_post(post):\n",
    "    # Remove links\n",
    "    post = re.sub(r'http\\S+', '', post)\n",
    "    # Remove special characters and digits (including spaces)\n",
    "    post = re.sub(r'[^a-zA-Z\\s]', '', post)\n",
    "    # Convert to lowercase and split into words\n",
    "    words = post.lower().split()\n",
    "    # Remove stopwords\n",
    "    words = [w for w in words if w not in stop_words]\n",
    "    # Remove single characters\n",
    "    words = [w for w in words if len(w) > 1]\n",
    "    # Join words back into a cleaned post\n",
    "    cleaned_post = ' '.join(words)\n",
    "    return cleaned_post\n",
    "\n",
    "# Apply the clean_post function to each post in the 'posts' column\n",
    "data['cleaned_posts'] = data['posts'].apply(lambda posts: [clean_post(post) for post in posts])\n",
    "\n",
    "# Display cleaned posts\n",
    "print(data.head())"
   ]
  },
  {
   "cell_type": "code",
   "execution_count": 24,
   "metadata": {},
   "outputs": [
    {
     "name": "stdout",
     "output_type": "stream",
     "text": [
      "tokenised and padded data for train:\n",
      "[[1534 1535  443 1536 1537  444 1538 1539 1540 1541 1542 1543 1544 1545\n",
      "  1546 1547 1548 1549 1550 1551 1552 1553 1554 1555 1556 1557 1558 1559\n",
      "  1560 1561 1562 1563 1564 1565 1566 1567 1568 1569 1570 1571 1572 1573\n",
      "  1574 1575 1576 1577 1578 1579 1580 1581    0    0    0    0    0    0\n",
      "     0    0    0    0    0    0    0    0    0    0    0    0    0    0\n",
      "     0    0    0    0    0    0    0    0    0    0    0    0    0    0\n",
      "     0    0    0    0    0    0    0    0    0    0    0    0    0    0\n",
      "     0    0]\n",
      " [1582 1583 1584 1585 1586 1587 1588 1589 1590 1591  445 1592 1593 1594\n",
      "  1595 1596 1597 1598 1599 1600 1601 1602 1603 1604 1605 1606 1607 1608\n",
      "  1609 1610 1611 1612 1613 1614 1615 1616 1617 1618 1619 1620 1621 1622\n",
      "  1623 1624 1625 1626 1627 1628 1629 1630    0    0    0    0    0    0\n",
      "     0    0    0    0    0    0    0    0    0    0    0    0    0    0\n",
      "     0    0    0    0    0    0    0    0    0    0    0    0    0    0\n",
      "     0    0    0    0    0    0    0    0    0    0    0    0    0    0\n",
      "     0    0]\n",
      " [1631 1632 1633 1634 1635 1636 1637 1638 1639 1640 1641 1642 1643 1644\n",
      "  1645 1646 1647 1648 1649 1650 1651 1652 1653 1654 1655 1656 1657 1658\n",
      "  1659 1660 1661 1662 1663 1664 1665 1666 1667 1668 1669 1670 1671 1672\n",
      "  1673 1674 1675  108 1676 1677 1678 1679    0    0    0    0    0    0\n",
      "     0    0    0    0    0    0    0    0    0    0    0    0    0    0\n",
      "     0    0    0    0    0    0    0    0    0    0    0    0    0    0\n",
      "     0    0    0    0    0    0    0    0    0    0    0    0    0    0\n",
      "     0    0]\n",
      " [1680 1681 1682 1683 1684 1685   88 1686 1687 1688 1689 1690 1691 1692\n",
      "  1693 1694 1695 1696 1697 1698 1699 1700 1701 1702 1703 1704 1705 1706\n",
      "  1707 1708 1709 1710 1711 1712 1713 1714 1715 1716 1717 1718 1719 1720\n",
      "  1721 1722 1723 1724 1725 1726 1727 1728    0    0    0    0    0    0\n",
      "     0    0    0    0    0    0    0    0    0    0    0    0    0    0\n",
      "     0    0    0    0    0    0    0    0    0    0    0    0    0    0\n",
      "     0    0    0    0    0    0    0    0    0    0    0    0    0    0\n",
      "     0    0]\n",
      " [1729 1730 1731 1732 1733 1734 1735 1736 1737 1738 1739 1740 1741 1742\n",
      "  1743 1744 1745 1746 1747 1748 1749 1750 1751 1752 1753 1754 1755 1756\n",
      "  1757 1758 1759 1760 1761 1762 1763 1764 1765 1766 1767 1768 1769 1770\n",
      "  1771 1772 1773 1774 1775 1776 1777 1778    0    0    0    0    0    0\n",
      "     0    0    0    0    0    0    0    0    0    0    0    0    0    0\n",
      "     0    0    0    0    0    0    0    0    0    0    0    0    0    0\n",
      "     0    0    0    0    0    0    0    0    0    0    0    0    0    0\n",
      "     0    0]]\n",
      "The shape is  (6900, 100)\n"
     ]
    }
   ],
   "source": [
    "# Split data into training and testing sets\n",
    "trainData, testData = train_test_split(data, test_size=0.2, random_state=42)\n",
    "\n",
    "# Now we can tokenize the data\n",
    "\n",
    "# We should tokenise each post in each row of the data and then pad the sequences\n",
    "# This will allow us to feed the data into the model\n",
    "\n",
    "# Given that we want to create train and test variables to store the tokenised data, we should store them as such\n",
    "\n",
    "train = trainData['posts']\n",
    "test = testData['posts']\n",
    "\n",
    "# We can now fit the tokenizer on the training and test data\n",
    "# Tokenization and sequence padding\n",
    "tokenizer_train = Tokenizer()\n",
    "tokenizer_train.fit_on_texts(trainData['posts'])\n",
    "tokenizer_test = Tokenizer()\n",
    "tokenizer_test.fit_on_texts(testData['posts'])\n",
    "\n",
    "trainSequences = tokenizer_train.texts_to_sequences(trainData['posts'])\n",
    "testSequences = tokenizer_test.texts_to_sequences(testData['posts'])\n",
    "\n",
    "maxlen = 100\n",
    "trainSeq = pad_sequences(trainSequences, maxlen=maxlen, padding='post', truncating='post')\n",
    "testSeq = pad_sequences(testSequences, maxlen=maxlen, padding='post', truncating='post')\n",
    "\n",
    "# Displaying the data to ensure that it has been tokenised and padded correctly\n",
    "print(\"tokenised and padded data for train:\")\n",
    "# Print the first 5 rows of the data\n",
    "print(trainSeq[:5])\n",
    "\n",
    "print(\"The shape is \", trainSeq.shape)\n"
   ]
  },
  {
   "cell_type": "markdown",
   "metadata": {},
   "source": [
    "encoding"
   ]
  },
  {
   "cell_type": "code",
   "execution_count": 25,
   "metadata": {},
   "outputs": [
    {
     "data": {
      "text/plain": [
       "INFP    1823\n",
       "INFJ    1460\n",
       "INTP    1297\n",
       "INTJ    1083\n",
       "ENTP     684\n",
       "ENFP     672\n",
       "ISTP     335\n",
       "ISFP     269\n",
       "ENTJ     228\n",
       "ISTJ     202\n",
       "ENFJ     190\n",
       "ISFJ     165\n",
       "ESTP      88\n",
       "ESFP      48\n",
       "ESFJ      42\n",
       "ESTJ      39\n",
       "Name: type, dtype: int64"
      ]
     },
     "metadata": {},
     "output_type": "display_data"
    },
    {
     "data": {
      "text/plain": [
       "array([ 9,  0,  9, ..., 10, 10,  1])"
      ]
     },
     "metadata": {},
     "output_type": "display_data"
    }
   ],
   "source": [
    "# Encode MBTI type labels\n",
    "labelEnc = LabelEncoder()\n",
    "labelEnc.fit(data['type'])\n",
    "\n",
    "trainLabels = labelEnc.transform(trainData['type'])\n",
    "testLabels = labelEnc.transform(testData['type'])\n",
    "\n",
    "# Display encoded labels and their counts in the training data\n",
    "display(data['type'].value_counts())\n",
    "display(trainLabels)"
   ]
  },
  {
   "cell_type": "markdown",
   "metadata": {},
   "source": [
    "model definition"
   ]
  },
  {
   "cell_type": "code",
   "execution_count": 26,
   "metadata": {},
   "outputs": [],
   "source": [
    "# Model Architecture\n",
    "embedding_dim = 100\n",
    "lstm_units = 128\n",
    "num_classes = len(labelEnc.classes_)\n",
    "\n",
    "model = Sequential()\n",
    "model.add(Embedding(len(tokenizer_train.word_index) + 1, embedding_dim))\n",
    "model.add(LSTM(lstm_units, dropout=0.2, recurrent_dropout=0.2))\n",
    "model.add(Dense(num_classes, activation='softmax'))"
   ]
  },
  {
   "cell_type": "code",
   "execution_count": null,
   "metadata": {},
   "outputs": [],
   "source": [
    "# Compile the model\n",
    "optimizer = RMSprop(learning_rate=0.001)\n",
    "model.compile(loss='sparse_categorical_crossentropy', optimizer=optimizer, metrics=['accuracy'])\n",
    "\n",
    "# Train the model\n",
    "num_epochs = 10\n",
    "batch_size = 32\n",
    "validation_split = 0.2\n",
    "patience = 3\n",
    "\n",
    "model.fit(trainSeq, trainLabels, epochs=num_epochs, batch_size=batch_size,\n",
    "          validation_split=validation_split, callbacks=[EarlyStopping(patience=patience)])\n"
   ]
  },
  {
   "cell_type": "markdown",
   "metadata": {},
   "source": [
    "model definition updated"
   ]
  },
  {
   "cell_type": "code",
   "execution_count": 36,
   "metadata": {},
   "outputs": [],
   "source": [
    "embedding_dim = 100\n",
    "lstm_units = 128\n",
    "num_classes = len(labelEnc.classes_)\n",
    "\n",
    "model = Sequential()\n",
    "model.add(Embedding(len(tokenizer_train.word_index) + 1, embedding_dim, input_length=maxlen))\n",
    "model.add(SpatialDropout1D(0.2))  # Spatial dropout to prevent overfitting\n",
    "\n",
    "model.add(LSTM(lstm_units, dropout=0.2, recurrent_dropout=0.2))\n",
    "\n",
    "model.add(Dense(num_classes, activation='softmax'))"
   ]
  },
  {
   "cell_type": "code",
   "execution_count": 37,
   "metadata": {},
   "outputs": [],
   "source": [
    "optimizer = Adam(learning_rate=0.001)\n",
    "model.compile(loss='sparse_categorical_crossentropy', optimizer=optimizer, metrics=['accuracy'])"
   ]
  },
  {
   "cell_type": "code",
   "execution_count": 38,
   "metadata": {},
   "outputs": [
    {
     "name": "stdout",
     "output_type": "stream",
     "text": [
      "Model: \"sequential_1\"\n",
      "_________________________________________________________________\n",
      " Layer (type)                Output Shape              Param #   \n",
      "=================================================================\n",
      " embedding_1 (Embedding)     (None, 100, 100)          33152300  \n",
      "                                                                 \n",
      " spatial_dropout1d (SpatialD  (None, 100, 100)         0         \n",
      " ropout1D)                                                       \n",
      "                                                                 \n",
      " lstm_1 (LSTM)               (None, 128)               117248    \n",
      "                                                                 \n",
      " dense_1 (Dense)             (None, 16)                2064      \n",
      "                                                                 \n",
      "=================================================================\n",
      "Total params: 33,271,612\n",
      "Trainable params: 33,271,612\n",
      "Non-trainable params: 0\n",
      "_________________________________________________________________\n"
     ]
    }
   ],
   "source": [
    "model.summary()"
   ]
  },
  {
   "cell_type": "code",
   "execution_count": 41,
   "metadata": {},
   "outputs": [
    {
     "name": "stdout",
     "output_type": "stream",
     "text": [
      "Epoch 1/20\n",
      "173/173 [==============================] - 115s 665ms/step - loss: 2.2934 - accuracy: 0.1953 - val_loss: 2.2536 - val_accuracy: 0.2232\n",
      "Epoch 2/20\n",
      "173/173 [==============================] - 129s 746ms/step - loss: 2.2949 - accuracy: 0.1931 - val_loss: 2.2473 - val_accuracy: 0.2232\n",
      "Epoch 3/20\n",
      "173/173 [==============================] - 129s 747ms/step - loss: 2.2941 - accuracy: 0.2005 - val_loss: 2.2491 - val_accuracy: 0.2232\n",
      "Epoch 4/20\n",
      "173/173 [==============================] - 130s 751ms/step - loss: 2.2940 - accuracy: 0.2027 - val_loss: 2.2468 - val_accuracy: 0.2232\n",
      "Epoch 5/20\n",
      "173/173 [==============================] - 128s 739ms/step - loss: 2.2937 - accuracy: 0.2033 - val_loss: 2.2520 - val_accuracy: 0.2232\n",
      "Epoch 6/20\n",
      "173/173 [==============================] - 127s 736ms/step - loss: 2.2931 - accuracy: 0.2033 - val_loss: 2.2460 - val_accuracy: 0.2232\n",
      "Epoch 7/20\n",
      "173/173 [==============================] - 124s 719ms/step - loss: 2.2946 - accuracy: 0.2022 - val_loss: 2.2459 - val_accuracy: 0.2232\n",
      "Epoch 8/20\n",
      "173/173 [==============================] - 126s 726ms/step - loss: 2.2935 - accuracy: 0.2027 - val_loss: 2.2480 - val_accuracy: 0.2232\n",
      "Epoch 9/20\n",
      "173/173 [==============================] - 125s 721ms/step - loss: 2.2941 - accuracy: 0.1982 - val_loss: 2.2466 - val_accuracy: 0.2232\n",
      "Epoch 10/20\n",
      "173/173 [==============================] - 122s 707ms/step - loss: 2.2945 - accuracy: 0.1986 - val_loss: 2.2466 - val_accuracy: 0.2232\n"
     ]
    },
    {
     "data": {
      "text/plain": [
       "<keras.callbacks.History at 0x25a8c8dc088>"
      ]
     },
     "execution_count": 41,
     "metadata": {},
     "output_type": "execute_result"
    }
   ],
   "source": [
    "# Train the model\n",
    "num_epochs = 20\n",
    "batch_size = 32\n",
    "validation_split = 0.2\n",
    "patience = 3\n",
    "\n",
    "model.fit(trainSeq, trainLabels, epochs=num_epochs, batch_size=batch_size,\n",
    "          validation_split=validation_split, callbacks=[EarlyStopping(patience=patience)])"
   ]
  },
  {
   "cell_type": "markdown",
   "metadata": {},
   "source": [
    "Evaluating model"
   ]
  },
  {
   "cell_type": "code",
   "execution_count": 42,
   "metadata": {},
   "outputs": [
    {
     "name": "stdout",
     "output_type": "stream",
     "text": [
      "54/54 [==============================] - 2s 29ms/step - loss: 2.2837 - accuracy: 0.2278\n",
      "Test Loss: 2.28373384475708\n",
      "Test Accuracy: 0.2278260886669159\n"
     ]
    }
   ],
   "source": [
    "testLoss, testAcc = model.evaluate(testSeq, testLabels)\n",
    "print(f\"Test Loss: {testLoss}\")\n",
    "print(f\"Test Accuracy: {testAcc}\")"
   ]
  },
  {
   "cell_type": "code",
   "execution_count": 29,
   "metadata": {},
   "outputs": [],
   "source": [
    "import numpy as np\n",
    "from sklearn.metrics import accuracy_score, precision_score, recall_score, f1_score, confusion_matrix"
   ]
  },
  {
   "cell_type": "code",
   "execution_count": 30,
   "metadata": {},
   "outputs": [
    {
     "name": "stdout",
     "output_type": "stream",
     "text": [
      "54/54 [==============================] - 3s 38ms/step\n",
      "Accuracy: 0.2278\n",
      "Precision: 0.0519\n",
      "Recall: 0.2278\n",
      "F1-score: 0.0845\n",
      "Confusion Matrix:\n",
      "[[  0   0   0   0   0   0   0   0   0  33   0   0   0   0   0   0]\n",
      " [  0   0   0   0   0   0   0   0   0 114   0   0   0   0   0   0]\n",
      " [  0   0   0   0   0   0   0   0   0  36   0   0   0   0   0   0]\n",
      " [  0   0   0   0   0   0   0   0   0 126   0   0   0   0   0   0]\n",
      " [  0   0   0   0   0   0   0   0   0   8   0   0   0   0   0   0]\n",
      " [  0   0   0   0   0   0   0   0   0  10   0   0   0   0   0   0]\n",
      " [  0   0   0   0   0   0   0   0   0   6   0   0   0   0   0   0]\n",
      " [  0   0   0   0   0   0   0   0   0  21   0   0   0   0   0   0]\n",
      " [  0   0   0   0   0   0   0   0   0 262   0   0   0   0   0   0]\n",
      " [  0   0   0   0   0   0   0   0   0 393   0   0   0   0   0   0]\n",
      " [  0   0   0   0   0   0   0   0   0 258   0   0   0   0   0   0]\n",
      " [  0   0   0   0   0   0   0   0   0 244   0   0   0   0   0   0]\n",
      " [  0   0   0   0   0   0   0   0   0  39   0   0   0   0   0   0]\n",
      " [  0   0   0   0   0   0   0   0   0  61   0   0   0   0   0   0]\n",
      " [  0   0   0   0   0   0   0   0   0  43   0   0   0   0   0   0]\n",
      " [  0   0   0   0   0   0   0   0   0  71   0   0   0   0   0   0]]\n"
     ]
    },
    {
     "name": "stderr",
     "output_type": "stream",
     "text": [
      "c:\\Users\\manya\\Anaconda3\\lib\\site-packages\\sklearn\\metrics\\_classification.py:1318: UndefinedMetricWarning: Precision is ill-defined and being set to 0.0 in labels with no predicted samples. Use `zero_division` parameter to control this behavior.\n",
      "  _warn_prf(average, modifier, msg_start, len(result))\n"
     ]
    }
   ],
   "source": [
    "# Predict probabilities for each class\n",
    "y_pred_probabilities = model.predict(testSeq)\n",
    "\n",
    "# Convert probabilities to class labels - argmax to get the index of the highest probability\n",
    "y_pred = np.argmax(y_pred_probabilities, axis=1)\n",
    "\n",
    "accuracy = accuracy_score(testLabels, y_pred)\n",
    "precision = precision_score(testLabels, y_pred, average='weighted')\n",
    "recall = recall_score(testLabels, y_pred, average='weighted')\n",
    "f1 = f1_score(testLabels, y_pred, average='weighted')\n",
    "\n",
    "print(f\"Accuracy: {accuracy:.4f}\")\n",
    "print(f\"Precision: {precision:.4f}\")\n",
    "print(f\"Recall: {recall:.4f}\")\n",
    "print(f\"F1-score: {f1:.4f}\")\n",
    "\n",
    "conf_matrix = confusion_matrix(testLabels, y_pred)\n",
    "print(\"Confusion Matrix:\")\n",
    "print(conf_matrix)"
   ]
  },
  {
   "cell_type": "markdown",
   "metadata": {},
   "source": [
    "Five fold cross validation"
   ]
  },
  {
   "cell_type": "code",
   "execution_count": 31,
   "metadata": {},
   "outputs": [],
   "source": [
    "from sklearn.model_selection import KFold, StratifiedKFold"
   ]
  },
  {
   "cell_type": "code",
   "execution_count": 32,
   "metadata": {},
   "outputs": [],
   "source": [
    "n_splits = 5\n",
    "skf = StratifiedKFold(n_splits=n_splits, shuffle=True, random_state=42)"
   ]
  },
  {
   "cell_type": "code",
   "execution_count": 52,
   "metadata": {},
   "outputs": [
    {
     "name": "stderr",
     "output_type": "stream",
     "text": [
      "/Library/Frameworks/Python.framework/Versions/3.12/lib/python3.12/site-packages/keras/src/layers/core/embedding.py:86: UserWarning: Argument `input_length` is deprecated. Just remove it.\n",
      "  warnings.warn(\n"
     ]
    }
   ],
   "source": [
    "n_splits = 5\n",
    "skf = StratifiedKFold(n_splits=n_splits, shuffle=True, random_state=42)\n",
    "\n",
    "accuracies = []\n",
    "precisions = []\n",
    "recalls = []\n",
    "f1_scores = []\n",
    "confusion_matrices = []\n",
    "\n",
    "for train_idx, val_idx in skf.split(data['posts'], data['type']):\n",
    "    X_train, X_val = data['posts'][train_idx], data['posts'][val_idx]\n",
    "    y_train, y_val = data['type'][train_idx], data['type'][val_idx]\n",
    "\n",
    "    # Label Encoding\n",
    "    label_encoder = LabelEncoder()\n",
    "    y_train_encoded = label_encoder.fit_transform(y_train)\n",
    "    y_val_encoded = label_encoder.transform(y_val)\n",
    "\n",
    "    # Tokenization + Padding\n",
    "    tokenizer = Tokenizer()\n",
    "    tokenizer.fit_on_texts(X_train)\n",
    "    max_len = 100 \n",
    "\n",
    "    X_train_sequences = tokenizer.texts_to_sequences(X_train)\n",
    "    X_val_sequences = tokenizer.texts_to_sequences(X_val)\n",
    "\n",
    "    X_train_padded = pad_sequences(X_train_sequences, maxlen=max_len, padding='post', truncating='post')\n",
    "    X_val_padded = pad_sequences(X_val_sequences, maxlen=max_len, padding='post', truncating='post')\n",
    "\n",
    "    # Redefine and compile LSTM model\n",
    "    model = Sequential()\n",
    "    model.add(Embedding(len(tokenizer.word_index) + 1, 100, input_length=max_len))\n",
    "    model.add(LSTM(128, dropout=0.2, recurrent_dropout=0.2))\n",
    "    model.add(Dense(len(label_encoder.classes_), activation='softmax'))  # Output layer with number of classes\n",
    "\n",
    "    model.compile(loss='sparse_categorical_crossentropy', optimizer='adam', metrics=['accuracy'])\n",
    "\n",
    "    model.fit(X_train_padded, y_train_encoded, epochs=10, batch_size=32, verbose=0)\n",
    "\n",
    "    # Evaluate model on val data\n",
    "    y_pred_encoded = np.argmax(model.predict(X_val_padded), axis=1)\n",
    "\n",
    "    # Decode predicted labels back to MBTI types\n",
    "    y_pred_decoded = label_encoder.inverse_transform(y_pred_encoded)\n",
    "\n",
    "    # Calculating evaluation metrics for this fold\n",
    "    accuracy = accuracy_score(y_val, y_pred_decoded)\n",
    "    precision = precision_score(y_val, y_pred_decoded, average='weighted')\n",
    "    recall = recall_score(y_val, y_pred_decoded, average='weighted')\n",
    "    f1 = f1_score(y_val, y_pred_decoded, average='weighted')\n",
    "    conf_matrix = confusion_matrix(y_val, y_pred_decoded)\n",
    "\n",
    "    accuracies.append(accuracy)\n",
    "    precisions.append(precision)\n",
    "    recalls.append(recall)\n",
    "    f1_scores.append(f1)\n",
    "    confusion_matrices.append(conf_matrix)\n",
    "\n",
    "    print(f\"Fold Accuracy: {accuracy:.4f}, Precision: {precision:.4f}, Recall: {recall:.4f}, F1-score: {f1:.4f}\")\n",
    "    print(\"Confusion Matrix:\")\n",
    "    print(conf_matrix)\n",
    "\n",
    "# Average metrics across all folds\n",
    "avg_accuracy = np.mean(accuracies)\n",
    "avg_precision = np.mean(precisions)\n",
    "avg_recall = np.mean(recalls)\n",
    "avg_f1 = np.mean(f1_scores)\n",
    "\n",
    "print(\"\\nAverage Metrics Across Folds:\")\n",
    "print(f\"Average Accuracy: {avg_accuracy:.4f}\")\n",
    "print(f\"Average Precision: {avg_precision:.4f}\")\n",
    "print(f\"Average Recall: {avg_recall:.4f}\")\n",
    "print(f\"Average F1-score: {avg_f1:.4f}\")\n",
    "\n",
    "# Average confusion matrix\n",
    "avg_conf_matrix = np.mean(confusion_matrices, axis=0)\n",
    "print(\"Average Confusion Matrix:\")\n",
    "print(avg_conf_matrix)"
   ]
  },
  {
   "cell_type": "markdown",
   "metadata": {},
   "source": [
    "Accept use input for real-time testing"
   ]
  },
  {
   "cell_type": "code",
   "execution_count": null,
   "metadata": {},
   "outputs": [],
   "source": [
    "def preprocess_single_post(text):\n",
    "    # Preprocessing\n",
    "    cleaned_text = clean_text(text)\n",
    "    \n",
    "    # Tokenizing + Padding\n",
    "    sequence = tokenizer_train.texts_to_sequences([cleaned_text])\n",
    "    padded_sequence = pad_sequences(sequence, maxlen=maxlen, padding='post', truncating='post')\n",
    "    \n",
    "    return padded_sequence\n",
    "\n",
    "# Function to predict personality type from a single post\n",
    "def predict_personality_type(model, text):\n",
    "    # Preprocessing\n",
    "    preprocessed_text = preprocess_single_post(text)\n",
    "    \n",
    "    predictions = model.predict(preprocessed_text)\n",
    "    predicted_class = np.argmax(predictions, axis=1)[0] \n",
    "    \n",
    "    # Mapping the predicted class index to the personality type (MBTI) label\n",
    "    predicted_personality_type = labelEnc.inverse_transform([predicted_class])[0]\n",
    "    \n",
    "    return predicted_personality_type\n",
    "\n",
    "user_input = input(\"Enter a text post: \")\n",
    "predicted_type = predict_personality_type(model, user_input)\n",
    "\n",
    "print(\"Predicted Personality Type:\", predicted_type)"
   ]
  }
 ],
 "metadata": {
  "kernelspec": {
   "display_name": "base",
   "language": "python",
   "name": "python3"
  },
  "language_info": {
   "codemirror_mode": {
    "name": "ipython",
    "version": 3
   },
   "file_extension": ".py",
   "mimetype": "text/x-python",
   "name": "python",
   "nbconvert_exporter": "python",
   "pygments_lexer": "ipython3",
   "version": "3.7.4"
  }
 },
 "nbformat": 4,
 "nbformat_minor": 2
}
